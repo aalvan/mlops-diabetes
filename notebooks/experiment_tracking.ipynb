{
 "cells": [
  {
   "cell_type": "code",
   "execution_count": 1,
   "id": "60eca7bf-449a-4f01-b9c2-ca15b39fc2c9",
   "metadata": {},
   "outputs": [
    {
     "name": "stdout",
     "output_type": "stream",
     "text": [
      "Python 3.10.13\n"
     ]
    }
   ],
   "source": [
    "!python -V"
   ]
  },
  {
   "cell_type": "code",
   "execution_count": 34,
   "id": "e844188d-841a-47ad-93d3-35d758b1e76d",
   "metadata": {},
   "outputs": [],
   "source": [
    "import numpy as np # linear algebra\n",
    "import pandas as pd # data processing, CSV file I/O (e.g. pd.read_csv)\n",
    "\n",
    "from sklearn.preprocessing import StandardScaler\n",
    "from sklearn.model_selection import train_test_split\n",
    "from sklearn.ensemble import RandomForestClassifier\n",
    "from sklearn.pipeline import Pipeline\n",
    "from sklearn import metrics \n",
    "from sklearn.metrics import classification_report, accuracy_score\n",
    "from sklearn.tree import plot_tree\n",
    "\n",
    "from joblib import dump\n",
    "\n",
    "import seaborn as sns\n",
    "import matplotlib.pyplot as plt\n",
    "\n",
    "from hyperopt import fmin, tpe, hp, Trials, STATUS_OK\n",
    "from hyperopt.pyll.base import scope\n",
    "\n",
    "import boto3"
   ]
  },
  {
   "cell_type": "code",
   "execution_count": 3,
   "id": "0bf2e62e-43d2-4fa5-a19f-79bcb57ecc7a",
   "metadata": {},
   "outputs": [],
   "source": [
    "import mlflow\n",
    "import os"
   ]
  },
  {
   "cell_type": "code",
   "execution_count": 4,
   "id": "44a5e308-9c62-4598-a3a7-1110238d5d7f",
   "metadata": {},
   "outputs": [],
   "source": [
    "random_state = 42"
   ]
  },
  {
   "cell_type": "markdown",
   "id": "604b6f4b-559f-4cd6-837c-ee73b00978bc",
   "metadata": {},
   "source": [
    "# Configuring Mlflow"
   ]
  },
  {
   "cell_type": "code",
   "execution_count": 5,
   "id": "ef500880-ebae-4f39-9e5a-9ca1c30f7db1",
   "metadata": {},
   "outputs": [
    {
     "data": {
      "text/plain": [
       "<Experiment: artifact_location='s3://mlflow-artifacts-bucket-aalva/1', creation_time=1721663385991, experiment_id='1', last_update_time=1721663385991, lifecycle_stage='active', name='diabetes-uci', tags={}>"
      ]
     },
     "execution_count": 5,
     "metadata": {},
     "output_type": "execute_result"
    }
   ],
   "source": [
    "os.environ[\"AWS_PROFILE\"] = \"mlflow-profile\"\n",
    "TRACKING_SERVER_HOST = \"ec2-3-140-187-200.us-east-2.compute.amazonaws.com\"\n",
    "mlflow.set_tracking_uri(f\"http://{TRACKING_SERVER_HOST}:5000\")\n",
    "mlflow.set_experiment(\"diabetes-uci\")"
   ]
  },
  {
   "cell_type": "code",
   "execution_count": 6,
   "id": "2a295bcf-8822-4e40-9fb5-1da5419c1684",
   "metadata": {},
   "outputs": [
    {
     "name": "stdout",
     "output_type": "stream",
     "text": [
      "tracking URI: 'http://ec2-3-140-187-200.us-east-2.compute.amazonaws.com:5000'\n"
     ]
    }
   ],
   "source": [
    "print(f\"tracking URI: '{mlflow.get_tracking_uri()}'\")"
   ]
  },
  {
   "cell_type": "markdown",
   "id": "3d2aa38d-7fde-46ac-a4d8-55f40476a9ee",
   "metadata": {},
   "source": [
    "# Loading data"
   ]
  },
  {
   "cell_type": "code",
   "execution_count": 7,
   "id": "15b0f9ba-bebd-481a-b660-0f4c1b0f4e4b",
   "metadata": {},
   "outputs": [],
   "source": [
    "data_path = '../data/raw/diabetes.csv'\n",
    "def load_data(data_path):\n",
    "    diabetes_df = pd.read_csv(data_path)\n",
    "    \n",
    "    diabetes_df = diabetes_df.copy(deep=True)\n",
    "    diabetes_df[['Glucose', 'BloodPressure', 'SkinThickness', 'Insulin', 'BMI']] = diabetes_df[['Glucose', 'BloodPressure', 'SkinThickness', 'Insulin', 'BMI']].replace(0, np.NaN)\n",
    "\n",
    "    diabetes_df['Glucose'] = diabetes_df['Glucose'].fillna(diabetes_df['Glucose'].mean())\n",
    "    diabetes_df['BloodPressure'] = diabetes_df['BloodPressure'].fillna(diabetes_df['BloodPressure'].mean())\n",
    "    diabetes_df['SkinThickness'] = diabetes_df['SkinThickness'].fillna(diabetes_df['SkinThickness'].median())\n",
    "    diabetes_df['Insulin'] = diabetes_df['Insulin'].fillna(diabetes_df['Insulin'].median())\n",
    "    diabetes_df['BMI'] = diabetes_df['BMI'].fillna(diabetes_df['BMI'].median())\n",
    "\n",
    "    return diabetes_df\n"
   ]
  },
  {
   "cell_type": "markdown",
   "id": "b708f2bc-2cc6-45ff-a7e1-b67349162374",
   "metadata": {},
   "source": [
    "# Training Random Forest"
   ]
  },
  {
   "cell_type": "code",
   "execution_count": 8,
   "id": "50fbcf93-5bb2-4b2c-ad6e-9415ea45113c",
   "metadata": {},
   "outputs": [],
   "source": [
    "def train(data_path, max_depth, max_features, n_estimators):\n",
    "\n",
    "    data_df = load_data(data_path)\n",
    "\n",
    "    X = data_df.drop('Outcome', axis=1)\n",
    "    y = data_df['Outcome']\n",
    "    \n",
    "    X_train, X_test, y_train, y_test = train_test_split(X, y, test_size=0.2,\n",
    "                                                        random_state=random_state,\n",
    "                                                       stratify=y)\n",
    "    scaler = StandardScaler()\n",
    "    X_train_scaled = scaler.fit_transform(X_train)\n",
    "    X_test_std = scaler.transform(X_test)\n",
    "\n",
    "    rf_model = RandomForestClassifier(\n",
    "        max_depth=max_depth, max_features=max_features, n_estimators=n_estimators\n",
    "    )\n",
    "    rf_model.fit(X_train, y_train)\n",
    "    \n",
    "    y_pred = rf_model.predict(X_test)\n",
    "\n",
    "    acc = accuracy_score(y_test, y_pred)\n",
    "\n",
    "    mlparams = {\n",
    "        'max_depth': max_depth,\n",
    "        'max_features': max_features,\n",
    "        'n_estimators': n_estimators\n",
    "    }\n",
    "    mlflow.log_params(mlparams)\n",
    "    mlflow.set_tag('model', 'random-forest')\n",
    "\n",
    "    mlmetrics = {'accuracy': acc}\n",
    "    print(f'accuracy: {acc}')\n",
    "    mlflow.log_metrics(mlmetrics)\n",
    "\n",
    "    return rf_model"
   ]
  },
  {
   "cell_type": "code",
   "execution_count": 10,
   "id": "90ca815a-cbce-4c38-9480-5b44382fa48f",
   "metadata": {},
   "outputs": [
    {
     "name": "stdout",
     "output_type": "stream",
     "text": [
      "accuracy: 0.7467532467532467\n"
     ]
    }
   ],
   "source": [
    "max_depth = 8\n",
    "max_features = 0.75\n",
    "n_estimators = 200\n",
    "\n",
    "with mlflow.start_run():\n",
    "    train(data_path, max_depth, max_features, n_estimators)"
   ]
  },
  {
   "cell_type": "markdown",
   "id": "c6352d04-4fa3-4991-999d-cda4ede029b3",
   "metadata": {},
   "source": [
    "# Hyperparameter Optimization"
   ]
  },
  {
   "cell_type": "code",
   "execution_count": 11,
   "id": "577e7196-0482-4835-a7b6-e1cd5e1c2dbe",
   "metadata": {},
   "outputs": [],
   "source": [
    "data_df = load_data(data_path)"
   ]
  },
  {
   "cell_type": "code",
   "execution_count": 17,
   "id": "1f12dc47-3837-4719-aac0-52f40af76779",
   "metadata": {},
   "outputs": [],
   "source": [
    "def objective(params):\n",
    "\n",
    "    with mlflow.start_run():\n",
    "        mlflow.set_tag(\"developer\", \"alexis\")\n",
    "        mlflow.set_tag(\"model\", \"random_forest\")\n",
    "        mlflow.log_param('train_data_path', f'{data_path}')\n",
    "        \n",
    "        X = data_df.drop('Outcome', axis=1)\n",
    "        y = data_df['Outcome']\n",
    "        \n",
    "        X_train, X_test, y_train, y_test = train_test_split(X, y, test_size=0.2,\n",
    "                                                            random_state=random_state,\n",
    "                                                            stratify=y)\n",
    "        scaler = StandardScaler()\n",
    "        X_train_scaled = scaler.fit_transform(X_train)\n",
    "        X_test_scaled = scaler.transform(X_test)\n",
    "    \n",
    "        rf_model = RandomForestClassifier(**params)\n",
    "        rf_model.fit(X_train_scaled, y_train)\n",
    "        \n",
    "        y_pred = rf_model.predict(X_test_scaled)\n",
    "        acc = accuracy_score(y_test, y_pred)\n",
    "\n",
    "        mlmetrics = {'accuracy': acc}\n",
    "        print(f'accuracy: {acc}')\n",
    "        mlflow.log_metrics(mlmetrics)\n",
    "    \n",
    "    return {'loss': -acc, 'status': STATUS_OK, 'params': params}"
   ]
  },
  {
   "cell_type": "code",
   "execution_count": 35,
   "id": "b8117209-e700-4c79-a5f2-a9232b441dc8",
   "metadata": {},
   "outputs": [],
   "source": [
    "# Define the search space\n",
    "search_space = {\n",
    "    'max_depth': scope.int(hp.choice('max_depth', [10, 20, 30])),\n",
    "    'max_features': hp.choice('max_features', ['sqrt','log2']),\n",
    "    'n_estimators': scope.int(hp.quniform('n_estimators', 50, 300, 50)),\n",
    "}"
   ]
  },
  {
   "cell_type": "code",
   "execution_count": 36,
   "id": "0afa4aad-51a4-483b-b450-96b356fb44eb",
   "metadata": {},
   "outputs": [
    {
     "name": "stdout",
     "output_type": "stream",
     "text": [
      "accuracy: 0.7532467532467533                                                                                                            \n",
      "accuracy: 0.7532467532467533                                                                                                            \n",
      "accuracy: 0.7467532467532467                                                                                                            \n",
      "accuracy: 0.7467532467532467                                                                                                            \n",
      "accuracy: 0.7272727272727273                                                                                                            \n",
      "accuracy: 0.7337662337662337                                                                                                            \n",
      "accuracy: 0.7337662337662337                                                                                                            \n",
      "accuracy: 0.7207792207792207                                                                                                            \n",
      "accuracy: 0.7337662337662337                                                                                                            \n",
      "accuracy: 0.7207792207792207                                                                                                            \n",
      "accuracy: 0.7337662337662337                                                                                                            \n",
      "accuracy: 0.7402597402597403                                                                                                            \n",
      "accuracy: 0.7337662337662337                                                                                                            \n",
      "accuracy: 0.7337662337662337                                                                                                            \n",
      "accuracy: 0.7337662337662337                                                                                                            \n",
      "accuracy: 0.7467532467532467                                                                                                            \n",
      "accuracy: 0.7337662337662337                                                                                                            \n",
      "accuracy: 0.7402597402597403                                                                                                            \n",
      "accuracy: 0.7597402597402597                                                                                                            \n",
      "accuracy: 0.7402597402597403                                                                                                            \n",
      "100%|████████████████████████████████████████████████████████████████| 20/20 [00:13<00:00,  1.45trial/s, best loss: -0.7597402597402597]\n"
     ]
    }
   ],
   "source": [
    "trials = Trials()\n",
    "best = fmin(fn=objective,\n",
    "            space=search_space,\n",
    "            algo=tpe.suggest,\n",
    "            max_evals=20,\n",
    "            trials=trials)\n",
    "\n",
    "# Extract the best parameters\n",
    "best_params = trials.best_trial['result']['params']"
   ]
  },
  {
   "cell_type": "markdown",
   "id": "41acd34d-9e56-48a5-b03f-301ce27e0790",
   "metadata": {},
   "source": [
    "# Save best model"
   ]
  },
  {
   "cell_type": "code",
   "execution_count": 38,
   "id": "993201c0-6508-4f8d-a9cf-3523bfef497c",
   "metadata": {},
   "outputs": [
    {
     "name": "stdout",
     "output_type": "stream",
     "text": [
      "Best params: {'max_depth': 10, 'max_features': 'log2', 'n_estimators': 50}\n",
      "accuracy: 0.7467532467532467\n"
     ]
    },
    {
     "name": "stderr",
     "output_type": "stream",
     "text": [
      "/home/codespace/.local/share/virtualenvs/mlops-diabetes--DZkgjQj/lib/python3.10/site-packages/_distutils_hack/__init__.py:17: UserWarning: Distutils was imported before Setuptools, but importing Setuptools also replaces the `distutils` module in `sys.modules`. This may lead to undesirable behaviors or errors. To avoid these issues, avoid using distutils directly, ensure that setuptools is installed in the traditional way (e.g. not an editable install), and/or make sure that setuptools is always imported before distutils.\n",
      "  warnings.warn(\n",
      "/home/codespace/.local/share/virtualenvs/mlops-diabetes--DZkgjQj/lib/python3.10/site-packages/_distutils_hack/__init__.py:32: UserWarning: Setuptools is replacing distutils. Support for replacing an already imported distutils is deprecated. In the future, this condition will fail. Register concerns at https://github.com/pypa/setuptools/issues/new?template=distutils-deprecation.yml\n",
      "  warnings.warn(\n"
     ]
    }
   ],
   "source": [
    "artifact_path = '../models/random_forest.joblib'\n",
    "\n",
    "with mlflow.start_run():\n",
    "    mlflow.log_params(best_params)\n",
    "    mlflow.set_tag(\"developer\", \"alexis\")\n",
    "    mlflow.set_tag(\"model\", \"random_forest\")\n",
    "    mlflow.log_param('train_data_path', f'{data_path}')\n",
    "    \n",
    "    print(f'Best params: {best_params}')\n",
    "    # Retrain the model with the best parameters\n",
    "    data_df = load_data(data_path)\n",
    "    X = data_df.drop('Outcome', axis=1)\n",
    "    y = data_df['Outcome']\n",
    "\n",
    "    X_train, X_test, y_train, y_test = train_test_split(X, y, test_size=0.2,\n",
    "                                                        random_state=random_state,\n",
    "                                                        stratify=y)\n",
    "    scaler = StandardScaler()\n",
    "    X_train_scaled = scaler.fit_transform(X_train)\n",
    "    X_test_scaled = scaler.transform(X_test)\n",
    "\n",
    "    best_model = RandomForestClassifier(**best_params)\n",
    "    best_model.fit(X_train_scaled, y_train)\n",
    "\n",
    "    y_pred = best_model.predict(X_test_scaled)\n",
    "    acc = accuracy_score(y_test, y_pred)\n",
    "\n",
    "    mlmetrics = {'accuracy': acc}\n",
    "    print(f'accuracy: {acc}')\n",
    "    mlflow.log_metrics(mlmetrics)\n",
    "    \n",
    "    mlflow.sklearn.log_model(\n",
    "            best_model,\n",
    "            artifact_path=artifact_path,\n",
    "        )"
   ]
  },
  {
   "cell_type": "code",
   "execution_count": null,
   "id": "f4a424be-0302-48cc-9482-b6cd493c150c",
   "metadata": {},
   "outputs": [],
   "source": []
  }
 ],
 "metadata": {
  "kernelspec": {
   "display_name": "Python 3 (ipykernel)",
   "language": "python",
   "name": "python3"
  },
  "language_info": {
   "codemirror_mode": {
    "name": "ipython",
    "version": 3
   },
   "file_extension": ".py",
   "mimetype": "text/x-python",
   "name": "python",
   "nbconvert_exporter": "python",
   "pygments_lexer": "ipython3",
   "version": "3.10.13"
  }
 },
 "nbformat": 4,
 "nbformat_minor": 5
}
